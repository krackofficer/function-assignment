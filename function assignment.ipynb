{
 "cells": [
  {
   "cell_type": "markdown",
   "id": "b368d814-8ad7-485e-852f-c3f87de61f3a",
   "metadata": {},
   "source": [
    "### ASSIGNMENT ON FUNCTIONS:-"
   ]
  },
  {
   "cell_type": "markdown",
   "id": "8abacd03-23f6-4891-945b-9ecac978da3f",
   "metadata": {},
   "source": [
    "# 1) Write a Python function that takes a list of numbers as input and returns the sum of all even numbers in the list?\n",
    " "
   ]
  },
  {
   "cell_type": "code",
   "execution_count": 2,
   "id": "01729fe8-664e-4f65-a92a-d70f018ece33",
   "metadata": {},
   "outputs": [],
   "source": [
    "def sum_of_even_numbers(numbers):\n",
    "    \"\"\"\n",
    "    Calculates the sum of all even numbers in the given list.\n",
    "\n",
    "    Args:\n",
    "        numbers (list): A list of integers.\n",
    "\n",
    "    Returns:\n",
    "        int: The sum of even numbers.\n",
    "    \"\"\"\n",
    "    even_sum = 0\n",
    "    for num in numbers:\n",
    "        if num % 2 == 0:\n",
    "            even_sum += num\n",
    "    return even_sum\n",
    "\n",
    "\n"
   ]
  },
  {
   "cell_type": "code",
   "execution_count": 3,
   "id": "50e15d86-5ab4-4c0d-8046-778130ef9ee8",
   "metadata": {},
   "outputs": [
    {
     "name": "stdout",
     "output_type": "stream",
     "text": [
      "Sum of even numbers: 40\n"
     ]
    }
   ],
   "source": [
    "\n",
    "my_numbers = [2, 5, 8, 10, 15, 20]\n",
    "result = sum_of_even_numbers(my_numbers)\n",
    "print(f\"Sum of even numbers: {result}\")"
   ]
  },
  {
   "cell_type": "markdown",
   "id": "ae991a70-08ac-4107-98dc-eb2dc28805be",
   "metadata": {},
   "source": [
    "# 2)Create a Python function that accepts a string and returns the reverse of that string?"
   ]
  },
  {
   "cell_type": "code",
   "execution_count": 37,
   "id": "54b3ba0a-c4cf-41e8-a2aa-92019d83b15e",
   "metadata": {},
   "outputs": [],
   "source": [
    "def reverse_string(input_string):\n",
    "    \"\"\"\n",
    "    Reverses the given string.\n",
    "\n",
    "    Args:\n",
    "        input_string (str): The string to be reversed.\n",
    "\n",
    "    Returns:\n",
    "        str: The reversed string.\n",
    "    \"\"\"\n",
    "    return input_string[::-1]\n",
    "\n",
    "\n",
    "\n"
   ]
  },
  {
   "cell_type": "code",
   "execution_count": 60,
   "id": "e5e22f69-319c-4ce4-9e26-0172a31772f0",
   "metadata": {},
   "outputs": [
    {
     "name": "stdout",
     "output_type": "stream",
     "text": [
      "Original: Hello, krackofficer!\n",
      "Reversed: !reciffokcark ,olleH\n"
     ]
    }
   ],
   "source": [
    "original_text = \"Hello, krackofficer!\"\n",
    "reversed_text = reverse_string(original_text)\n",
    "print(f\"Original: {original_text}\")\n",
    "print(f\"Reversed: {reversed_text}\")"
   ]
  },
  {
   "cell_type": "code",
   "execution_count": 39,
   "id": "a90a4cf9-1bf9-4b03-8bd0-4536eaca2c17",
   "metadata": {},
   "outputs": [
    {
     "name": "stdout",
     "output_type": "stream",
     "text": [
      "Help on function reverse_string in module __main__:\n",
      "\n",
      "reverse_string(input_string)\n",
      "    Reverses the given string.\n",
      "    \n",
      "    Args:\n",
      "        input_string (str): The string to be reversed.\n",
      "    \n",
      "    Returns:\n",
      "        str: The reversed string.\n",
      "\n"
     ]
    }
   ],
   "source": [
    "help(reverse_string)"
   ]
  },
  {
   "cell_type": "code",
   "execution_count": 40,
   "id": "09e94813-bcdf-4554-b7d9-fde52c3f96ec",
   "metadata": {},
   "outputs": [
    {
     "name": "stdout",
     "output_type": "stream",
     "text": [
      "\n",
      "    Reverses the given string.\n",
      "\n",
      "    Args:\n",
      "        input_string (str): The string to be reversed.\n",
      "\n",
      "    Returns:\n",
      "        str: The reversed string.\n",
      "    \n"
     ]
    }
   ],
   "source": [
    "print(reverse_string.__doc__)"
   ]
  },
  {
   "cell_type": "markdown",
   "id": "f199a81b-61ce-4d7c-821f-00dd5a7dc46e",
   "metadata": {},
   "source": [
    "# 3)Implement a Python function that takes a list of integers and returns a new list containing the squares of each number?\n"
   ]
  },
  {
   "cell_type": "code",
   "execution_count": 52,
   "id": "03833f7d-464c-4fd2-b8e8-181835fd8853",
   "metadata": {},
   "outputs": [],
   "source": [
    "def square_numbers(numbers):\n",
    "    \"\"\"\n",
    "    Returns a new list containing the squares of each number in the input list.\n",
    "\n",
    "    Args:\n",
    "        numbers (list): A list of integers.\n",
    "\n",
    "    Returns:\n",
    "        list: A new list with the squares of the input numbers.\n",
    "    \"\"\"\n",
    "    return [num ** 2 for num in numbers]\n",
    "\n",
    "\n",
    "\n"
   ]
  },
  {
   "cell_type": "code",
   "execution_count": 53,
   "id": "8bd029ca-fb41-4455-b813-923834cd5937",
   "metadata": {},
   "outputs": [
    {
     "name": "stdout",
     "output_type": "stream",
     "text": [
      "Squared list: [1, 4, 9, 16, 25]\n"
     ]
    }
   ],
   "source": [
    "my_numbers = [1, 2, 3, 4, 5]\n",
    "squared_list = square_numbers(my_numbers)\n",
    "print(f\"Squared list: {squared_list}\")"
   ]
  },
  {
   "cell_type": "markdown",
   "id": "e5719be1-f649-46d6-bb21-34535ec58503",
   "metadata": {},
   "source": [
    "# 4)Write a Python function that checks if a given number is prime or not from 1 to 200?"
   ]
  },
  {
   "cell_type": "code",
   "execution_count": 62,
   "id": "555244c3-1105-4369-a53a-b8edcd820f2f",
   "metadata": {},
   "outputs": [],
   "source": [
    "def is_prime(number):\n",
    "    \"\"\"\n",
    "    Checks if the given number is prime.\n",
    "\n",
    "    Args:\n",
    "        number (int): The number to check.\n",
    "\n",
    "    Returns:\n",
    "        bool: True if the number is prime, False otherwise.\n",
    "    \"\"\"\n",
    "    if number < 2:\n",
    "        return False      # Numbers less than 2 are not prime\n",
    "\n",
    "    # Check divisibility from 2 up to the square root of the number\n",
    "    \n",
    "    for divisor in range(2, int(number**0.5) + 1):\n",
    "        if number % divisor == 0:\n",
    "            return False          # Found a divisor, not prime\n",
    "\n",
    "    return True           # No divisors found, it's prime!\n",
    "\n",
    "\n",
    "\n",
    "\n"
   ]
  },
  {
   "cell_type": "code",
   "execution_count": 63,
   "id": "ae82a8d5-92ea-40b6-ba17-9081ed075189",
   "metadata": {},
   "outputs": [
    {
     "name": "stdout",
     "output_type": "stream",
     "text": [
      "2 is prime.\n",
      "3 is prime.\n",
      "5 is prime.\n",
      "7 is prime.\n",
      "11 is prime.\n",
      "13 is prime.\n",
      "17 is prime.\n",
      "19 is prime.\n",
      "23 is prime.\n",
      "29 is prime.\n",
      "31 is prime.\n",
      "37 is prime.\n",
      "41 is prime.\n",
      "43 is prime.\n",
      "47 is prime.\n",
      "53 is prime.\n",
      "59 is prime.\n",
      "61 is prime.\n",
      "67 is prime.\n",
      "71 is prime.\n",
      "73 is prime.\n",
      "79 is prime.\n",
      "83 is prime.\n",
      "89 is prime.\n",
      "97 is prime.\n",
      "101 is prime.\n",
      "103 is prime.\n",
      "107 is prime.\n",
      "109 is prime.\n",
      "113 is prime.\n",
      "127 is prime.\n",
      "131 is prime.\n",
      "137 is prime.\n",
      "139 is prime.\n",
      "149 is prime.\n",
      "151 is prime.\n",
      "157 is prime.\n",
      "163 is prime.\n",
      "167 is prime.\n",
      "173 is prime.\n",
      "179 is prime.\n",
      "181 is prime.\n",
      "191 is prime.\n",
      "193 is prime.\n",
      "197 is prime.\n",
      "199 is prime.\n"
     ]
    }
   ],
   "source": [
    "for num in range(1, 201):\n",
    "    if is_prime(num):\n",
    "        print(f\"{num} is prime.\")"
   ]
  },
  {
   "cell_type": "markdown",
   "id": "dd7cf13f-1c12-40ce-b554-4a272dbe0eb7",
   "metadata": {},
   "source": [
    "# 5)Create an iterator class in Python that generates the Fibonacci sequence up to a specified number of terms?\n"
   ]
  },
  {
   "cell_type": "code",
   "execution_count": 1,
   "id": "f38a5c68-1a85-409b-94e5-3bde141a3f33",
   "metadata": {},
   "outputs": [],
   "source": [
    "class FibonacciIterator:\n",
    "    def __init__(self, num_terms):\n",
    "        self.num_terms = num_terms\n",
    "        self.current_term = 0\n",
    "        self.a, self.b = 0, 1\n",
    "\n",
    "    def __iter__(self):\n",
    "        return self\n",
    "\n",
    "    def __next__(self):\n",
    "        if self.current_term >= self.num_terms:\n",
    "            raise StopIteration\n",
    "        else:\n",
    "            result = self.a\n",
    "            self.a, self.b = self.b, self.a + self.b\n",
    "            self.current_term += 1\n",
    "            return result\n",
    "\n"
   ]
  },
  {
   "cell_type": "code",
   "execution_count": 2,
   "id": "e9a58033-3b93-4101-88fe-4a1cc3d0f08c",
   "metadata": {},
   "outputs": [
    {
     "name": "stdout",
     "output_type": "stream",
     "text": [
      "0\n",
      "1\n",
      "1\n",
      "2\n",
      "3\n",
      "5\n",
      "8\n",
      "13\n",
      "21\n",
      "34\n"
     ]
    }
   ],
   "source": [
    "num_terms_to_generate = 10\n",
    "fibonacci_sequence = FibonacciIterator(num_terms_to_generate)\n",
    "for term in fibonacci_sequence:\n",
    "    print(term)"
   ]
  },
  {
   "cell_type": "markdown",
   "id": "285eca56-2bae-4edd-97e5-6ff36328a4a0",
   "metadata": {},
   "source": [
    "# 6)Write a generator function in Python that yields the powers of 2 up to a given exponent ?"
   ]
  },
  {
   "cell_type": "code",
   "execution_count": 17,
   "id": "9ff81963-ba0a-4a89-98f5-afb3d1e7b456",
   "metadata": {},
   "outputs": [],
   "source": [
    "def powers_of_two_generator(exponent):\n",
    "    for i in range(exponent + 1):\n",
    "        yield 2**i\n",
    "    \n",
    "    "
   ]
  },
  {
   "cell_type": "code",
   "execution_count": 18,
   "id": "f01d3c4f-11d3-454d-a3e8-774e5bba44d7",
   "metadata": {},
   "outputs": [
    {
     "data": {
      "text/plain": [
       "<generator object powers_of_two_generator at 0x7eda2c289c40>"
      ]
     },
     "execution_count": 18,
     "metadata": {},
     "output_type": "execute_result"
    }
   ],
   "source": [
    "powers_of_two_generator(5)"
   ]
  },
  {
   "cell_type": "code",
   "execution_count": 19,
   "id": "f9898441-6871-43bb-a5a7-652cab91bc1b",
   "metadata": {},
   "outputs": [
    {
     "name": "stdout",
     "output_type": "stream",
     "text": [
      "1\n",
      "2\n",
      "4\n",
      "8\n",
      "16\n",
      "32\n"
     ]
    }
   ],
   "source": [
    "max_exponent = 5\n",
    "for power in powers_of_two_generator(max_exponent):\n",
    "    print(power)"
   ]
  },
  {
   "cell_type": "markdown",
   "id": "c132e977-5df2-44b3-b10b-c1b687449d7c",
   "metadata": {},
   "source": [
    " # 7)Implement a generator function that reads a file line by line and yields each line as a string?"
   ]
  },
  {
   "cell_type": "code",
   "execution_count": 28,
   "id": "728837c9-109e-4b49-8839-a38a20cce812",
   "metadata": {},
   "outputs": [],
   "source": [
    "def read_file_line_by_line(file_path):\n",
    "    \"\"\"\n",
    "    Reads a file line by line and yields each line as a string.\n",
    "\n",
    "    Args:\n",
    "        file_path (str): The path to the file.\n",
    "\n",
    "    Yields:\n",
    "        str: Each line from the file.\n",
    "    \"\"\"\n",
    "    try:\n",
    "        with open(file_path, \"r\") as file:\n",
    "            for line in file:\n",
    "                yield line.strip()        # Remove any leading/trailing whitespace\n",
    "    except FileNotFoundError:\n",
    "        print(f\"File '{file_path}' not found. Please check the path and try again.\")\n",
    "\n",
    "\n"
   ]
  },
  {
   "cell_type": "code",
   "execution_count": 29,
   "id": "c65ec026-e45d-4998-bdea-f6e481099f26",
   "metadata": {},
   "outputs": [
    {
     "name": "stdout",
     "output_type": "stream",
     "text": [
      "File 'my_text_file.txt' not found. Please check the path and try again.\n"
     ]
    }
   ],
   "source": [
    "\n",
    "file_path = \"my_text_file.txt\"  # Replace with your actual file path\n",
    "for line in read_file_line_by_line(file_path):\n",
    "    print(line)"
   ]
  },
  {
   "cell_type": "markdown",
   "id": "02d0d002-f313-4d34-947e-d7377ebae559",
   "metadata": {},
   "source": [
    " # 8)Use a lambda function in Python to sort a list of tuples based on the second element of each tuple?"
   ]
  },
  {
   "cell_type": "code",
   "execution_count": 30,
   "id": "d883436b-ff30-4f70-a6a0-5a2ded286dd3",
   "metadata": {},
   "outputs": [
    {
     "name": "stdout",
     "output_type": "stream",
     "text": [
      "Sorted list of tuples:\n",
      "(1, 5)\n",
      "(2, 8)\n",
      "(3, 10)\n",
      "(4, 15)\n"
     ]
    }
   ],
   "source": [
    "my_list_of_tuples = [(3, 10), (1, 5), (2, 8), (4, 15)]\n",
    "\n",
    "# Sort by the second element (index 1) of each tuple\n",
    "\n",
    "sorted_list = sorted(my_list_of_tuples, key=lambda x: x[1])\n",
    "\n",
    "print(\"Sorted list of tuples:\")\n",
    "for item in sorted_list:\n",
    "    print(item)\n"
   ]
  },
  {
   "cell_type": "markdown",
   "id": "b3be944a-703c-4719-9cd4-b0ea0fddd1c3",
   "metadata": {},
   "source": [
    "# 9)Write a Python program that uses `map()` to convert a list of temperatures from Celsius to Fahrenheit?"
   ]
  },
  {
   "cell_type": "code",
   "execution_count": 31,
   "id": "29edcc00-d4b3-499c-bf35-6d882134481c",
   "metadata": {},
   "outputs": [
    {
     "name": "stdout",
     "output_type": "stream",
     "text": [
      "25.5°C = 77.9°F\n",
      "30.0°C = 86.0°F\n",
      "15.2°C = 59.4°F\n",
      "10.7°C = 51.3°F\n"
     ]
    }
   ],
   "source": [
    "def celsius_to_fahrenheit(celsius):\n",
    "  \n",
    " return (celsius * 9/5) + 32\n",
    "\n",
    "# Example list of temperatures in Celsius\n",
    "\n",
    "celsius_temperatures = [25.5, 30.0, 15.2, 10.7]\n",
    "\n",
    "# Use map() to convert each temperature to Fahrenheit\n",
    "\n",
    "fahrenheit_temperatures = list(map(celsius_to_fahrenheit, celsius_temperatures))\n",
    "\n",
    "for c, f in zip(celsius_temperatures, fahrenheit_temperatures):\n",
    "    print(f\"{c:.1f}°C = {f:.1f}°F\")\n"
   ]
  },
  {
   "cell_type": "markdown",
   "id": "cec1e456-b1f5-44f6-a3bc-06e0c9de367e",
   "metadata": {},
   "source": [
    "# 10)Create a Python program that uses `filter()` to remove all the vowels from a given string?"
   ]
  },
  {
   "cell_type": "code",
   "execution_count": 35,
   "id": "ae9fb68c-20c6-4bea-bcf1-9d2e23c879f0",
   "metadata": {},
   "outputs": [
    {
     "name": "stdin",
     "output_type": "stream",
     "text": [
      "Enter a string:  my name is khan and i am not a terrorist\n"
     ]
    },
    {
     "name": "stdout",
     "output_type": "stream",
     "text": [
      "String with vowels removed: my nm s khn nd  m nt  trrrst\n"
     ]
    }
   ],
   "source": [
    "def remove_vowels(input_string):\n",
    "    vowels = \"aeiouAEIOU\"\n",
    "    return \"\".join(filter(lambda char: char not in vowels, input_string))\n",
    "\n",
    "\n",
    "user_input = input(\"Enter a string: \")\n",
    "result = remove_vowels(user_input)\n",
    "print(f\"String with vowels removed: {result}\")\n"
   ]
  },
  {
   "cell_type": "code",
   "execution_count": null,
   "id": "e9c78c80-65a9-4737-a40a-7b16ec3fbf3b",
   "metadata": {},
   "outputs": [],
   "source": [
    "# 11)Imagine an accounting routine used in a book shop. It works on a list with sublists, which look like this:\n",
    "#Order number      Book Title and Author                          Quantity          Price per Item\n",
    "34587                  Learning Python,Mark Lutz                    4                 40.95\n",
    "98762                  programming Python,Mark Lutz                 5                 56.80\n",
    "77226                  Head First Python,Paul Barry                 3                 32.95\n",
    "88112                  Einfuhrung in Python3,Bernd Klein            3                 24.99\n",
    "\n",
    "\n",
    "#Write a Python program, which returns a list with 2-tuples. Each tuple consists of the order number and the \n",
    "#product of the price per item and the quantity. The product should be increased by 10,- € if the value of the \n",
    "#order is smaller than 100,00 €.\n",
    "\n",
    "#Write a Python program using lambda and map.\n",
    "\n"
   ]
  },
  {
   "cell_type": "code",
   "execution_count": 64,
   "id": "9bd6a946-d2bc-47e9-926a-2525972de5f3",
   "metadata": {},
   "outputs": [
    {
     "name": "stdout",
     "output_type": "stream",
     "text": [
      "(34587, 163.8)\n",
      "(98762, 284.0)\n",
      "(77226, 108.85000000000001)\n",
      "(88112, 84.97)\n"
     ]
    }
   ],
   "source": [
    "# Define the bookshop orders\n",
    "orders = [\n",
    "    (34587, \"Learning Python, Mark Lutz\", 4, 40.95),\n",
    "    (98762, \"Programming Python, Mark Lutz\", 5, 56.80),\n",
    "    (77226, \"Head First Python, Paul Barry\", 3, 32.95),\n",
    "    (88112, \"Einführung in Python3, Bernd Klein\", 3, 24.99)\n",
    "]\n",
    "# Function to calculate the total price with the condition\n",
    "def calculate_total(order):\n",
    "    order_number, title_author, quantity, price_per_item = order\n",
    "    total_price = quantity * price_per_item\n",
    "    if total_price < 100:\n",
    "        total_price += 10\n",
    "    return (order_number, total_price)\n",
    "# Use map and lambda to process the orders\n",
    "result = list(map(lambda order: calculate_total(order), orders))\n",
    "# Print the result\n",
    "for order in result:\n",
    "    print(order)\n"
   ]
  },
  {
   "cell_type": "code",
   "execution_count": null,
   "id": "42f6e0bc-8a52-4861-a356-7b1860c17dd8",
   "metadata": {},
   "outputs": [],
   "source": []
  },
  {
   "cell_type": "code",
   "execution_count": null,
   "id": "2ee91c12-4ee9-4efc-b742-27f5a2ef3bb9",
   "metadata": {},
   "outputs": [],
   "source": []
  },
  {
   "cell_type": "code",
   "execution_count": null,
   "id": "03cf974b-9d37-47fc-b004-758a04ee8b78",
   "metadata": {},
   "outputs": [],
   "source": []
  }
 ],
 "metadata": {
  "kernelspec": {
   "display_name": "Python 3 (ipykernel)",
   "language": "python",
   "name": "python3"
  },
  "language_info": {
   "codemirror_mode": {
    "name": "ipython",
    "version": 3
   },
   "file_extension": ".py",
   "mimetype": "text/x-python",
   "name": "python",
   "nbconvert_exporter": "python",
   "pygments_lexer": "ipython3",
   "version": "3.10.8"
  }
 },
 "nbformat": 4,
 "nbformat_minor": 5
}
